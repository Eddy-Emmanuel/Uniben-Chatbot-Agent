{
 "cells": [
  {
   "cell_type": "code",
   "execution_count": 210,
   "id": "8636df6c-ae4b-436d-9d37-c73254dc3400",
   "metadata": {},
   "outputs": [],
   "source": [
    "import re\n",
    "import os\n",
    "import time\n",
    "\n",
    "from pydantic_settings import BaseSettings, SettingsConfigDict\n",
    "\n",
    "import requests\n",
    "from bs4 import BeautifulSoup\n",
    "\n",
    "from typing import TypedDict\n",
    "\n",
    "from uuid import uuid4\n",
    "from pinecone import Pinecone, ServerlessSpec\n",
    "from langchain_pinecone import PineconeVectorStore, PineconeEmbeddings\n",
    "\n",
    "from langchain.chains import RetrievalQA\n",
    "from langchain.agents import AgentExecutor\n",
    "from langchain_deepseek import ChatDeepSeek\n",
    "from langchain.prompts import PromptTemplate\n",
    "from langchain_core.documents import Document\n",
    "from langchain.tools.retriever import create_retriever_tool\n",
    "from langchain_text_splitters import RecursiveCharacterTextSplitter\n",
    "from langchain_community.embeddings import HuggingFaceBgeEmbeddings\n",
    "from langchain_core.prompts import ChatPromptTemplate, MessagesPlaceholder"
   ]
  },
  {
   "cell_type": "code",
   "execution_count": 160,
   "id": "3525b8b9-34a4-4b0e-8f9b-414531be5bbd",
   "metadata": {},
   "outputs": [],
   "source": [
    "class ProjectConfiguration(BaseSettings):\n",
    "    model_config = SettingsConfigDict(env_file=\".env\")\n",
    "\n",
    "    NVIDIA_API_KEY:str\n",
    "    PINECONE_API_KEY:str\n",
    "    DEEPSEEK_API_KEY:str\n",
    "    \n",
    "class SiteLinks:\n",
    "    about:dict={\"link\":\"https://www.uniben.edu/about-uniben.html\", \"tag\":[\"h5\", \"h3\", \"h2\", \"p\", \"li\", \"h4\"]}\n",
    "    vchancellor:dict={\"link\":\"https://www.uniben.edu/vchancellor.html\", \"tag\":[\"h4\", \"p\", \"li\"]}\n",
    "    office_unit:dict={\"link\":\"https://www.uniben.edu/offices-units.html\", \"tag\":[\"h5\", \"p\"]}\n",
    "    why_choose_uniben:dict={\"link\":\"https://uniben.edu/why_choose_uniben.html\", \"tag\":[\"h5\", \"h3\", \"p\"]}\n",
    "    admission_policy:dict={\"link\":\"https://www.uniben.edu/admission_policy.html\", \"tag\":[\"h5\", \"h3\", \"p\"]}"
   ]
  },
  {
   "cell_type": "code",
   "execution_count": 161,
   "id": "8a1bd92f-23b3-435d-8904-17901ffadb7a",
   "metadata": {},
   "outputs": [],
   "source": [
    "project_config = ProjectConfiguration()"
   ]
  },
  {
   "cell_type": "code",
   "execution_count": 162,
   "id": "bd06e96d-c902-4d9a-867d-e76544b42390",
   "metadata": {},
   "outputs": [],
   "source": [
    "os.environ[\"NVIDIA_API_KEY\"] = project_config.NVIDIA_API_KEY\n",
    "os.environ[\"PINECONE_API_KEY\"] = project_config.PINECONE_API_KEY\n",
    "os.environ[\"DEEPSEEK_API_KEY\"] = project_config.DEEPSEEK_API_KEY"
   ]
  },
  {
   "cell_type": "code",
   "execution_count": 182,
   "id": "52db6aa2-07d8-47d0-95ef-53116caad51b",
   "metadata": {},
   "outputs": [],
   "source": [
    "class DataBaseClass:\n",
    "    def __init__(self):\n",
    "        self.splitter = RecursiveCharacterTextSplitter(chunk_size=5000, \n",
    "                                                       chunk_overlap=100,\n",
    "                                                       length_function=len)\n",
    "\n",
    "    def GetInfo(self, section_name=None, **kwarg):\n",
    "        response = requests.get(kwarg[\"link\"])\n",
    "        if response.status_code == 200:\n",
    "            soup = BeautifulSoup(response.content, \"html.parser\")\n",
    "            extracted_text = \" \".join([re.sub(r'\\s+', ' ', i.get_text(strip=False).replace(\"\\n\", \" \").replace(\"\\r\", \" \")).strip() for i in soup.find_all(kwarg[\"tag\"])])\n",
    "        else:\n",
    "            raise(f\"Error getting text from {link}\")\n",
    "            \n",
    "        splitted_text = self.splitter.split_text(extracted_text)\n",
    "\n",
    "        documents = [Document(page_content=text,\n",
    "                              metadata={\"source\": kwarg[\"link\"], \n",
    "                                        \"section\": section_name}) for text in splitted_text]\n",
    "\n",
    "        return documents\n",
    "        \n",
    "    def GetListOfText(self, **kwarg):\n",
    "        extracted_text = []\n",
    "        info_to_extract = [\"about\", \"vchancellor\", \"office_unit\"]\n",
    "        \n",
    "        for i in info_to_extract:\n",
    "            extracted_text.extend(self.GetInfo(i, **kwarg[i]))\n",
    "\n",
    "        return extracted_text\n",
    "\n",
    "    def LoadDB(self, list_of_documents):\n",
    "        pc = Pinecone(api_key=project_config.PINECONE_API_KEY)\n",
    "        model_name = \"BAAI/bge-small-en\"\n",
    "        model_kwargs = {\"device\": \"cpu\"}\n",
    "        encode_kwargs = {\"normalize_embeddings\": True}\n",
    "        embeddings = HuggingFaceBgeEmbeddings(\n",
    "            model_name=model_name, model_kwargs=model_kwargs, encode_kwargs=encode_kwargs\n",
    "        )\n",
    "    \n",
    "        index_name = \"customer-care-db\" \n",
    "        \n",
    "        existing_indexes = [index_info[\"name\"] for index_info in pc.list_indexes()]\n",
    "        \n",
    "        if index_name not in existing_indexes:\n",
    "            pc.create_index(\n",
    "                name=index_name,\n",
    "                dimension=384,\n",
    "                metric=\"cosine\",\n",
    "                spec=ServerlessSpec(cloud=\"aws\", region=\"us-east-1\"),\n",
    "            )\n",
    "            while not pc.describe_index(index_name).status[\"ready\"]:\n",
    "                time.sleep(1)\n",
    "        \n",
    "        index = pc.Index(index_name)\n",
    "    \n",
    "        vector_store = PineconeVectorStore(index=index, embedding=embeddings)\n",
    "    \n",
    "        uuids = [str(uuid4()) for _ in range(len(list_of_documents))]\n",
    "\n",
    "        vector_store.add_documents(documents=list_of_documents, ids=uuids)\n",
    "\n",
    "        return vector_store\n",
    "            \n",
    "    def SplitAndEmbeddText(self, splitted_documents):\n",
    "        vector_store = self.LoadDB(splitted_documents)\n",
    "        retriever = vector_store.as_retriever(search_type=\"similarity\",\n",
    "                                              search_kwargs={\"k\": 5})\n",
    "        return retriever\n",
    "\n",
    "    def GetVectorStoreRetriever(self, site_links):\n",
    "        retiever = self.SplitAndEmbeddText(self.GetListOfText(**site_links))\n",
    "        return retiever"
   ]
  },
  {
   "cell_type": "code",
   "execution_count": 183,
   "id": "e7d95a44-f842-4a69-8212-60950d05ac0f",
   "metadata": {},
   "outputs": [],
   "source": [
    "database_class = DataBaseClass()"
   ]
  },
  {
   "cell_type": "code",
   "execution_count": 184,
   "id": "a771f948-b75d-4b61-89e3-a201457c373a",
   "metadata": {},
   "outputs": [],
   "source": [
    "retriever = database_function.GetVectorStoreRetriever(SiteLinks.__dict__)"
   ]
  },
  {
   "cell_type": "code",
   "execution_count": 208,
   "id": "ecf9a548-5b99-44c8-bbd2-cb8fc7b09ea4",
   "metadata": {},
   "outputs": [],
   "source": [
    "class BotClass:\n",
    "    def __init__(self, retriever, model_name:str=\"meta/llama-3.3-70b-instruct\"):\n",
    "        self.retriever = retriever\n",
    "        self.llm = ChatDeepSeek(model=\"deepseek-chat\")\n",
    "\n",
    "    def InfoRetrieverAgent(self):\n",
    "        tool = create_retriever_tool(retriever=retriever, \n",
    "                                     name=\"uniben_data_reteiever\",\n",
    "                                     description=\"Retrieve data relevant to the University of Benin\")\n",
    "\n",
    "        custom_prompt = PromptTemplate(\n",
    "            input_variables=[\"context\", \"question\"],\n",
    "            template=(\n",
    "                \"You are a helpful assistant providing information about the University of Benin.\\n\"\n",
    "                \"Use only the context provided to answer the question, and return the text exactly as it appears.\\n\\n\"\n",
    "                \"Context:\\n{context}\\n\\nQuestion: {question}\\nAnswer:\")\n",
    "                    )\n",
    "        \n",
    "        qa_chain = RetrievalQA.from_chain_type(\n",
    "                                                llm=self.llm,\n",
    "                                                retriever=self.retriever,\n",
    "                                                chain_type=\"stuff\",\n",
    "                                                chain_type_kwargs={\"prompt\": custom_prompt},\n",
    "                                                return_source_documents=False\n",
    "                                            )\n",
    "        \n",
    "        return qa_chain"
   ]
  },
  {
   "cell_type": "code",
   "execution_count": 211,
   "id": "3cdea7e4-2ae0-4468-a737-9d86669bb534",
   "metadata": {},
   "outputs": [],
   "source": [
    "class BotSchema(TypedDict):\n",
    "    user_query:str\n",
    "    bot_response:str"
   ]
  },
  {
   "cell_type": "code",
   "execution_count": 204,
   "id": "4c893ee5-e996-4fad-a80b-3f5c9b3dab8a",
   "metadata": {},
   "outputs": [],
   "source": []
  },
  {
   "cell_type": "code",
   "execution_count": null,
   "id": "3d2ee3ac-65df-4e04-b1b1-cf85a9609459",
   "metadata": {},
   "outputs": [],
   "source": []
  },
  {
   "cell_type": "code",
   "execution_count": null,
   "id": "0abcf137-a65a-4a27-afab-7303b6f375bd",
   "metadata": {
    "scrolled": true
   },
   "outputs": [],
   "source": []
  },
  {
   "cell_type": "code",
   "execution_count": null,
   "id": "b936aa97-9a41-46db-8745-56741deaf0ac",
   "metadata": {
    "scrolled": true
   },
   "outputs": [],
   "source": []
  },
  {
   "cell_type": "code",
   "execution_count": null,
   "id": "daa7d82a-bc76-4abb-876a-3b4b920180f6",
   "metadata": {},
   "outputs": [],
   "source": []
  },
  {
   "cell_type": "code",
   "execution_count": null,
   "id": "b15218ba-906a-4f97-9946-53efdf1663f3",
   "metadata": {},
   "outputs": [],
   "source": []
  },
  {
   "cell_type": "code",
   "execution_count": null,
   "id": "4eea76e4-b4de-4aa7-b7ac-f21ab6304fa6",
   "metadata": {
    "scrolled": true
   },
   "outputs": [],
   "source": []
  },
  {
   "cell_type": "code",
   "execution_count": 26,
   "id": "82c5f705-3c6f-44a7-9316-cd8588fc1b98",
   "metadata": {},
   "outputs": [],
   "source": []
  },
  {
   "cell_type": "code",
   "execution_count": null,
   "id": "03bceab5-1a4f-46df-8270-ff707f5fe3fc",
   "metadata": {},
   "outputs": [],
   "source": []
  },
  {
   "cell_type": "code",
   "execution_count": null,
   "id": "a1ebca6d-b027-4ec0-9a12-5d7eab5e72a7",
   "metadata": {},
   "outputs": [],
   "source": []
  }
 ],
 "metadata": {
  "kernelspec": {
   "display_name": "Python 3 (ipykernel)",
   "language": "python",
   "name": "python3"
  },
  "language_info": {
   "codemirror_mode": {
    "name": "ipython",
    "version": 3
   },
   "file_extension": ".py",
   "mimetype": "text/x-python",
   "name": "python",
   "nbconvert_exporter": "python",
   "pygments_lexer": "ipython3",
   "version": "3.12.7"
  }
 },
 "nbformat": 4,
 "nbformat_minor": 5
}
